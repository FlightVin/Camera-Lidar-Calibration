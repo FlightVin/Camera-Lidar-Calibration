{
 "cells": [
  {
   "cell_type": "code",
   "execution_count": 2,
   "metadata": {},
   "outputs": [],
   "source": [
    "import numpy as np"
   ]
  },
  {
   "cell_type": "code",
   "execution_count": 3,
   "metadata": {},
   "outputs": [],
   "source": [
    "data_path = \"./src/lidar_camera_calibration/calibration_data/lidar_camera_calibration/\""
   ]
  },
  {
   "cell_type": "code",
   "execution_count": 16,
   "metadata": {},
   "outputs": [],
   "source": [
    "img_corners = np.array([\n",
    "    [1103, 391],\n",
    "    [1270, 270],\n",
    "    [1344, 335],\n",
    "    [1194, 441],\n",
    "    [1103, 391]\n",
    "], dtype=np.float32)\n",
    "\n",
    "pcl_corners = np.array([\n",
    "    [0.261, -0.163, 1.591],\n",
    "    [0.250, 0.083, 1.563],\n",
    "    [0.325, 0.116, 1.364],\n",
    "    [0.319, -0.132, 1.386],\n",
    "    [0.261, -0.163, 1.591]\n",
    "])\n",
    "\n",
    "np.save(data_path + \"img_corners.npy\", img_corners)\n",
    "np.save(data_path + \"pcl_corners.npy\", pcl_corners)"
   ]
  },
  {
   "cell_type": "code",
   "execution_count": 7,
   "metadata": {},
   "outputs": [
    {
     "name": "stdout",
     "output_type": "stream",
     "text": [
      "header: \n",
      "  seq: 33531\n",
      "  stamp: \n",
      "    secs: 3644\n",
      "    nsecs: 952000000\n",
      "  frame_id: \"camera_color_optical_frame\"\n",
      "height: 1080\n",
      "width: 1920\n",
      "distortion_model: \"plumb_bob\"\n",
      "D: []\n",
      "K: [1345.61962890625, 0.0, 960.0, 0.0, 1345.61962890625, 540.0, 0.0, 0.0, 1.0]\n",
      "R: [0.0, 0.0, 0.0, 0.0, 0.0, 0.0, 0.0, 0.0, 0.0]\n",
      "P: [1345.61962890625, 0.0, 960.0, 0.0, 0.0, 1345.61962890625, 540.0, 0.0, 0.0, 0.0, 1.0, 0.0]\n",
      "binning_x: 0\n",
      "binning_y: 0\n",
      "roi: \n",
      "  x_offset: 0\n",
      "  y_offset: 0\n",
      "  height: 0\n",
      "  width: 0\n",
      "  do_rectify: False\n"
     ]
    }
   ],
   "source": [
    "bag_path = \"./src/lidar_camera_calibration/bagfiles/\"\n",
    "\n",
    "bag_file = bag_path + \"1.bag\"\n",
    "\n",
    "import rosbag\n",
    "\n",
    "bag = rosbag.Bag(bag_file)\n",
    "\n",
    "for topic, msg, t in bag.read_messages(topics=['/sensors/camera/camera_info']):\n",
    "    print(msg)\n",
    "    break"
   ]
  }
 ],
 "metadata": {
  "kernelspec": {
   "display_name": "mr",
   "language": "python",
   "name": "python3"
  },
  "language_info": {
   "codemirror_mode": {
    "name": "ipython",
    "version": 3
   },
   "file_extension": ".py",
   "mimetype": "text/x-python",
   "name": "python",
   "nbconvert_exporter": "python",
   "pygments_lexer": "ipython3",
   "version": "3.8.10"
  }
 },
 "nbformat": 4,
 "nbformat_minor": 2
}
