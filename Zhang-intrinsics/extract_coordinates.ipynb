{
 "cells": [
  {
   "cell_type": "code",
   "execution_count": 1,
   "metadata": {},
   "outputs": [],
   "source": [
    "import numpy as np\n",
    "import cv2 as cv\n",
    "import glob\n",
    "import matplotlib.pyplot as plt"
   ]
  },
  {
   "cell_type": "code",
   "execution_count": 2,
   "metadata": {},
   "outputs": [],
   "source": [
    "x_corners, y_corners = (6, 8)"
   ]
  },
  {
   "cell_type": "code",
   "execution_count": 3,
   "metadata": {},
   "outputs": [
    {
     "name": "stdout",
     "output_type": "stream",
     "text": [
      "Image 1\n",
      "./zhang-data/1.png\n",
      "True\n",
      "Image 2\n",
      "./zhang-data/10.png\n",
      "True\n",
      "Image 3\n",
      "./zhang-data/11.png\n",
      "True\n",
      "Image 4\n",
      "./zhang-data/12.png\n",
      "True\n",
      "Image 5\n",
      "./zhang-data/13.png\n",
      "True\n",
      "Image 6\n",
      "./zhang-data/14.png\n",
      "False\n",
      "Image 7\n",
      "./zhang-data/15.png\n",
      "True\n",
      "Image 8\n",
      "./zhang-data/16.png\n",
      "True\n",
      "Image 9\n",
      "./zhang-data/17.png\n",
      "True\n",
      "Image 10\n",
      "./zhang-data/2.png\n",
      "True\n",
      "Image 11\n",
      "./zhang-data/3.png\n",
      "True\n",
      "Image 12\n",
      "./zhang-data/4.png\n",
      "True\n",
      "Image 13\n",
      "./zhang-data/5.png\n",
      "True\n",
      "Image 14\n",
      "./zhang-data/6.png\n",
      "True\n",
      "Image 15\n",
      "./zhang-data/7.png\n",
      "True\n",
      "Image 16\n",
      "./zhang-data/8.png\n",
      "True\n",
      "Image 17\n",
      "./zhang-data/9.png\n",
      "False\n"
     ]
    }
   ],
   "source": [
    "criteria = (cv.TERM_CRITERIA_EPS + cv.TERM_CRITERIA_MAX_ITER, 30, 0.001)\n",
    "\n",
    "objp = np.zeros((x_corners*y_corners,3), np.float32)\n",
    "objp[:,:2] = np.mgrid[0:x_corners,0:y_corners].T.reshape(-1,2)\n",
    "\n",
    "objpoints = [] \n",
    "imgpoints = [] \n",
    "\n",
    "images = sorted(glob.glob('./zhang-data/*.png'))\n",
    "num_images = len(images)\n",
    "num = 1\n",
    "\n",
    "for fname in images:\n",
    "    print(f\"Image {num}\")\n",
    "    print(fname)\n",
    "    img = cv.cvtColor(cv.imread(fname), cv.COLOR_BGR2GRAY)\n",
    "\n",
    "    gray = cv.resize(img, (1024, 1024))\n",
    "    \n",
    "    ret, corners = cv.findChessboardCorners(gray, (x_corners, y_corners), None)\n",
    "    print(ret)\n",
    "\n",
    "    if ret == True:\n",
    "        objpoints.append(objp)\n",
    "        corners2 = cv.cornerSubPix(gray,corners, (11,11), (-1,-1), criteria)\n",
    "        imgpoints.append(corners2)\n",
    "\n",
    "        corners2 = corners2.reshape(-1, 2)\n",
    "        np.savetxt(f'./zhang-coords/{num}.txt', corners2)\n",
    "    num += 1"
   ]
  },
  {
   "cell_type": "code",
   "execution_count": 4,
   "metadata": {},
   "outputs": [
    {
     "name": "stdout",
     "output_type": "stream",
     "text": [
      "[[0. 0.]\n",
      " [1. 0.]\n",
      " [2. 0.]\n",
      " [3. 0.]\n",
      " [4. 0.]\n",
      " [5. 0.]\n",
      " [0. 1.]\n",
      " [1. 1.]\n",
      " [2. 1.]\n",
      " [3. 1.]\n",
      " [4. 1.]\n",
      " [5. 1.]\n",
      " [0. 2.]\n",
      " [1. 2.]\n",
      " [2. 2.]\n",
      " [3. 2.]\n",
      " [4. 2.]\n",
      " [5. 2.]\n",
      " [0. 3.]\n",
      " [1. 3.]\n",
      " [2. 3.]\n",
      " [3. 3.]\n",
      " [4. 3.]\n",
      " [5. 3.]\n",
      " [0. 4.]\n",
      " [1. 4.]\n",
      " [2. 4.]\n",
      " [3. 4.]\n",
      " [4. 4.]\n",
      " [5. 4.]\n",
      " [0. 5.]\n",
      " [1. 5.]\n",
      " [2. 5.]\n",
      " [3. 5.]\n",
      " [4. 5.]\n",
      " [5. 5.]\n",
      " [0. 6.]\n",
      " [1. 6.]\n",
      " [2. 6.]\n",
      " [3. 6.]\n",
      " [4. 6.]\n",
      " [5. 6.]\n",
      " [0. 7.]\n",
      " [1. 7.]\n",
      " [2. 7.]\n",
      " [3. 7.]\n",
      " [4. 7.]\n",
      " [5. 7.]]\n"
     ]
    }
   ],
   "source": [
    "print(objpoints[0][:, :2])"
   ]
  },
  {
   "cell_type": "code",
   "execution_count": 5,
   "metadata": {},
   "outputs": [],
   "source": [
    "np.savetxt(\"./zhang-coords/world_points.txt\", objpoints[0][:, :2])"
   ]
  },
  {
   "cell_type": "code",
   "execution_count": 6,
   "metadata": {},
   "outputs": [
    {
     "name": "stdout",
     "output_type": "stream",
     "text": [
      "(15, 48, 1, 2)\n"
     ]
    }
   ],
   "source": [
    "imgpoints = np.array(imgpoints)\n",
    "print(imgpoints.shape)"
   ]
  },
  {
   "cell_type": "code",
   "execution_count": 7,
   "metadata": {},
   "outputs": [
    {
     "name": "stdout",
     "output_type": "stream",
     "text": [
      "[[[[462.14203 544.1426 ]]\n",
      "\n",
      "  [[507.67664 536.31305]]\n",
      "\n",
      "  [[550.42993 528.79193]]\n",
      "\n",
      "  ...\n",
      "\n",
      "  [[610.99255 760.79974]]\n",
      "\n",
      "  [[646.293   748.42755]]\n",
      "\n",
      "  [[679.8452  736.8233 ]]]\n",
      "\n",
      "\n",
      " [[[343.69623 164.22551]]\n",
      "\n",
      "  [[393.4648  166.07977]]\n",
      "\n",
      "  [[440.63654 167.74782]]\n",
      "\n",
      "  ...\n",
      "\n",
      "  [[494.70032 422.67035]]\n",
      "\n",
      "  [[533.0929  419.49994]]\n",
      "\n",
      "  [[570.4636  416.22864]]]\n",
      "\n",
      "\n",
      " [[[417.73038 368.50302]]\n",
      "\n",
      "  [[455.41864 367.85202]]\n",
      "\n",
      "  [[489.82892 367.17105]]\n",
      "\n",
      "  ...\n",
      "\n",
      "  [[516.7227  609.2598 ]]\n",
      "\n",
      "  [[543.5016  599.9582 ]]\n",
      "\n",
      "  [[568.33514 591.5608 ]]]\n",
      "\n",
      "\n",
      " ...\n",
      "\n",
      "\n",
      " [[[258.8898  193.6202 ]]\n",
      "\n",
      "  [[284.71274 193.879  ]]\n",
      "\n",
      "  [[310.41748 194.06009]]\n",
      "\n",
      "  ...\n",
      "\n",
      "  [[342.1459  334.5885 ]]\n",
      "\n",
      "  [[366.80612 335.02356]]\n",
      "\n",
      "  [[391.54913 335.4697 ]]]\n",
      "\n",
      "\n",
      " [[[495.16714 464.5371 ]]\n",
      "\n",
      "  [[517.2095  464.9073 ]]\n",
      "\n",
      "  [[539.4159  465.44028]]\n",
      "\n",
      "  ...\n",
      "\n",
      "  [[560.33453 584.3441 ]]\n",
      "\n",
      "  [[582.90466 585.2606 ]]\n",
      "\n",
      "  [[605.4087  586.28534]]]\n",
      "\n",
      "\n",
      " [[[450.1609  534.99536]]\n",
      "\n",
      "  [[496.8839  537.6427 ]]\n",
      "\n",
      "  [[544.6978  540.7187 ]]\n",
      "\n",
      "  ...\n",
      "\n",
      "  [[592.30054 786.8951 ]]\n",
      "\n",
      "  [[639.97614 793.382  ]]\n",
      "\n",
      "  [[689.1719  800.2456 ]]]]\n"
     ]
    }
   ],
   "source": [
    "print(imgpoints)"
   ]
  },
  {
   "cell_type": "code",
   "execution_count": 8,
   "metadata": {},
   "outputs": [],
   "source": [
    "ret, mtx, dist, rvecs, tvecs = cv.calibrateCamera(objpoints, imgpoints, gray.shape[::-1], None, None)"
   ]
  },
  {
   "cell_type": "code",
   "execution_count": 9,
   "metadata": {},
   "outputs": [
    {
     "name": "stdout",
     "output_type": "stream",
     "text": [
      "[[1.00412159e+03 0.00000000e+00 6.80111818e+02]\n",
      " [0.00000000e+00 7.25415876e+02 4.95988016e+02]\n",
      " [0.00000000e+00 0.00000000e+00 1.00000000e+00]]\n"
     ]
    }
   ],
   "source": [
    "print(mtx)"
   ]
  },
  {
   "cell_type": "code",
   "execution_count": 10,
   "metadata": {},
   "outputs": [
    {
     "name": "stdout",
     "output_type": "stream",
     "text": [
      "total error: 0.19597403375116165\n"
     ]
    }
   ],
   "source": [
    "mean_error = 0\n",
    "for i in range(len(objpoints)):\n",
    "    imgpoints2, _ = cv.projectPoints(objpoints[i], rvecs[i], tvecs[i], mtx, dist)\n",
    "    error = cv.norm(imgpoints[i], imgpoints2, cv.NORM_L2)/len(imgpoints2)\n",
    "    mean_error += error\n",
    "print( \"total error: {}\".format(mean_error/len(objpoints)) )"
   ]
  }
 ],
 "metadata": {
  "kernelspec": {
   "display_name": "Python 3",
   "language": "python",
   "name": "python3"
  },
  "language_info": {
   "codemirror_mode": {
    "name": "ipython",
    "version": 3
   },
   "file_extension": ".py",
   "mimetype": "text/x-python",
   "name": "python",
   "nbconvert_exporter": "python",
   "pygments_lexer": "ipython3",
   "version": "3.8.18"
  },
  "orig_nbformat": 4
 },
 "nbformat": 4,
 "nbformat_minor": 2
}
