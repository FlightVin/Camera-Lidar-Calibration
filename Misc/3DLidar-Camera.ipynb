{
 "cells": [
  {
   "cell_type": "code",
   "execution_count": 1,
   "metadata": {},
   "outputs": [],
   "source": [
    "import cv2\n",
    "import rosbag\n",
    "import numpy as np\n",
    "import matplotlib.pyplot as plt\n",
    "import sensor_msgs.point_cloud2 as pc2"
   ]
  },
  {
   "cell_type": "code",
   "execution_count": 2,
   "metadata": {},
   "outputs": [
    {
     "name": "stdout",
     "output_type": "stream",
     "text": [
      "Shape of the checkerboard points: (2620, 2)\n",
      "Length of the checkerboard: 0.20 x 0.20\n"
     ]
    }
   ],
   "source": [
    "checkerboard = []\n",
    "\n",
    "with rosbag.Bag(\"./ros-simulations/data_collection/3d/1/1.bag\", \"r\") as bag:\n",
    "    for topic, msg, t in bag.read_messages(topics=['/3d_lidar/depth/points']):\n",
    "        pc_data = pc2.read_points(msg, field_names=(\"x\", \"y\", \"z\", \"rgb\"), skip_nans=True)\n",
    "\n",
    "        points = []\n",
    "        points.extend(pc_data)\n",
    "\n",
    "        points = np.array(points)\n",
    "\n",
    "        points_y = points[:, 1]\n",
    "        points_y = np.round(points_y, 3)\n",
    "        mask = (points_y < 0.07)\n",
    "\n",
    "        checkerboard = points[:, [0, 1]][mask]\n",
    "        break\n",
    "\n",
    "print(f\"Shape of the checkerboard points: {checkerboard.shape}\")\n",
    "\n",
    "x_len, y_len = np.max(checkerboard, axis=0) - np.min(checkerboard, axis=0)\n",
    "print(f\"Length of the checkerboard: {x_len:.2f} x {y_len:.2f}\")"
   ]
  },
  {
   "cell_type": "code",
   "execution_count": 3,
   "metadata": {},
   "outputs": [
    {
     "name": "stdout",
     "output_type": "stream",
     "text": [
      "Shape of the lidar correspondences: (49, 2)\n"
     ]
    }
   ],
   "source": [
    "x_corner_coords, y_corner_coords = np.linspace(np.min(checkerboard, axis=0), np.max(checkerboard, axis=0), num=9, axis=0).T\n",
    "\n",
    "x_corner_coords = x_corner_coords[1:-1]\n",
    "y_corner_coords = y_corner_coords[1:-1]\n",
    "\n",
    "lidar_correspondences = np.array(np.meshgrid(x_corner_coords, y_corner_coords)).T.reshape(-1, 2)\n",
    "print(f\"Shape of the lidar correspondences: {lidar_correspondences.shape}\")"
   ]
  },
  {
   "cell_type": "code",
   "execution_count": 4,
   "metadata": {},
   "outputs": [],
   "source": [
    "K = np.array([\n",
    "    1345.61962890625, 0.0,              960.0, \n",
    "    0.0,              1345.61962890625, 540.0,\n",
    "    0.0,              0.0,              1.0\n",
    "]).reshape(3, 3)"
   ]
  },
  {
   "cell_type": "code",
   "execution_count": null,
   "metadata": {},
   "outputs": [],
   "source": []
  }
 ],
 "metadata": {
  "kernelspec": {
   "display_name": "Python 3",
   "language": "python",
   "name": "python3"
  },
  "language_info": {
   "codemirror_mode": {
    "name": "ipython",
    "version": 3
   },
   "file_extension": ".py",
   "mimetype": "text/x-python",
   "name": "python",
   "nbconvert_exporter": "python",
   "pygments_lexer": "ipython3",
   "version": "3.8.10"
  },
  "orig_nbformat": 4
 },
 "nbformat": 4,
 "nbformat_minor": 2
}
